{
 "cells": [
  {
   "cell_type": "code",
   "execution_count": 1,
   "id": "55981310",
   "metadata": {},
   "outputs": [
    {
     "data": {
      "text/plain": [
       "array([2, 4, 5])"
      ]
     },
     "execution_count": 1,
     "metadata": {},
     "output_type": "execute_result"
    }
   ],
   "source": [
    "import numpy as np \n",
    "np.array([2,4,5])"
   ]
  },
  {
   "cell_type": "code",
   "execution_count": 2,
   "id": "0a582482",
   "metadata": {},
   "outputs": [
    {
     "data": {
      "text/plain": [
       "array([2. , 4. , 0.5])"
      ]
     },
     "execution_count": 2,
     "metadata": {},
     "output_type": "execute_result"
    }
   ],
   "source": [
    "import numpy as np \n",
    "np.array([2,4.,0.5])"
   ]
  },
  {
   "cell_type": "code",
   "execution_count": 3,
   "id": "af2ed786",
   "metadata": {},
   "outputs": [
    {
     "ename": "NameError",
     "evalue": "name 'j' is not defined",
     "output_type": "error",
     "traceback": [
      "\u001b[1;31m---------------------------------------------------------------------------\u001b[0m",
      "\u001b[1;31mNameError\u001b[0m                                 Traceback (most recent call last)",
      "Input \u001b[1;32mIn [3]\u001b[0m, in \u001b[0;36m<cell line: 1>\u001b[1;34m()\u001b[0m\n\u001b[1;32m----> 1\u001b[0m np\u001b[38;5;241m.\u001b[39marray([\u001b[38;5;241m3\u001b[39m\u001b[38;5;241m+\u001b[39m\u001b[38;5;241m0\u001b[39m\u001b[38;5;241m*\u001b[39m\u001b[43mj\u001b[49m,\u001b[38;5;241m5.8\u001b[39m,\u001b[38;5;241m8\u001b[39m])\n",
      "\u001b[1;31mNameError\u001b[0m: name 'j' is not defined"
     ]
    }
   ],
   "source": [
    "np.array([3+0*j,5.8,8])"
   ]
  },
  {
   "cell_type": "code",
   "execution_count": 3,
   "id": "709fbe99",
   "metadata": {},
   "outputs": [
    {
     "data": {
      "text/plain": [
       "array([2.+4.j, 6.+7.j, 6.+0.j])"
      ]
     },
     "execution_count": 3,
     "metadata": {},
     "output_type": "execute_result"
    }
   ],
   "source": [
    "np.array([2+4j,6+7j,6.0])"
   ]
  },
  {
   "cell_type": "code",
   "execution_count": 4,
   "id": "5d50fa24",
   "metadata": {},
   "outputs": [
    {
     "data": {
      "text/plain": [
       "array([1, 2, 3])"
      ]
     },
     "execution_count": 4,
     "metadata": {},
     "output_type": "execute_result"
    }
   ],
   "source": [
    "np.array([1,2,3])"
   ]
  },
  {
   "cell_type": "code",
   "execution_count": 5,
   "id": "f1f7452e",
   "metadata": {},
   "outputs": [
    {
     "data": {
      "text/plain": [
       "array([1, 3, 6, 7, 9])"
      ]
     },
     "execution_count": 5,
     "metadata": {},
     "output_type": "execute_result"
    }
   ],
   "source": [
    "np.array([1,3,6,7.8,9],dtype = int)"
   ]
  },
  {
   "cell_type": "code",
   "execution_count": 6,
   "id": "88cd4355",
   "metadata": {},
   "outputs": [
    {
     "data": {
      "text/plain": [
       "dtype('int32')"
      ]
     },
     "execution_count": 6,
     "metadata": {},
     "output_type": "execute_result"
    }
   ],
   "source": [
    "np.array([1,3,6,7.8,922222245],dtype = int).dtype"
   ]
  },
  {
   "cell_type": "code",
   "execution_count": 8,
   "id": "3f1ac160",
   "metadata": {},
   "outputs": [
    {
     "ename": "TypeError",
     "evalue": "data type 'int128' not understood",
     "output_type": "error",
     "traceback": [
      "\u001b[1;31m---------------------------------------------------------------------------\u001b[0m",
      "\u001b[1;31mTypeError\u001b[0m                                 Traceback (most recent call last)",
      "Input \u001b[1;32mIn [8]\u001b[0m, in \u001b[0;36m<cell line: 1>\u001b[1;34m()\u001b[0m\n\u001b[1;32m----> 1\u001b[0m \u001b[43mnp\u001b[49m\u001b[38;5;241;43m.\u001b[39;49m\u001b[43marray\u001b[49m\u001b[43m(\u001b[49m\u001b[43m[\u001b[49m\u001b[38;5;241;43m1\u001b[39;49m\u001b[43m,\u001b[49m\u001b[38;5;241;43m2\u001b[39;49m\u001b[43m,\u001b[49m\u001b[38;5;241;43m3\u001b[39;49m\u001b[43m]\u001b[49m\u001b[43m,\u001b[49m\u001b[43mdtype\u001b[49m\u001b[43m \u001b[49m\u001b[38;5;241;43m=\u001b[39;49m\u001b[43m \u001b[49m\u001b[38;5;124;43m'\u001b[39;49m\u001b[38;5;124;43mint128\u001b[39;49m\u001b[38;5;124;43m'\u001b[39;49m\u001b[43m)\u001b[49m\n",
      "\u001b[1;31mTypeError\u001b[0m: data type 'int128' not understood"
     ]
    }
   ],
   "source": [
    "\n",
    "np.array([1,2,3],dtype = 'int128')"
   ]
  },
  {
   "cell_type": "code",
   "execution_count": 9,
   "id": "c672e8a5",
   "metadata": {},
   "outputs": [
    {
     "data": {
      "text/plain": [
       "array([1., 2., 3.])"
      ]
     },
     "execution_count": 9,
     "metadata": {},
     "output_type": "execute_result"
    }
   ],
   "source": [
    "np.array([1,2,3],dtype = 'f8')"
   ]
  },
  {
   "cell_type": "code",
   "execution_count": 10,
   "id": "464508e5",
   "metadata": {},
   "outputs": [
    {
     "data": {
      "text/plain": [
       "array([1., 2., 3.], dtype=float32)"
      ]
     },
     "execution_count": 10,
     "metadata": {},
     "output_type": "execute_result"
    }
   ],
   "source": [
    "\n",
    "np.array([1,2,3],dtype = 'f4')"
   ]
  },
  {
   "cell_type": "code",
   "execution_count": 11,
   "id": "b6ac0a9b",
   "metadata": {},
   "outputs": [
    {
     "data": {
      "text/plain": [
       "array([1, 2, 3])"
      ]
     },
     "execution_count": 11,
     "metadata": {},
     "output_type": "execute_result"
    }
   ],
   "source": [
    "np.array([1,2,3],dtype = 'i4')"
   ]
  },
  {
   "cell_type": "code",
   "execution_count": 12,
   "id": "e0fbed15",
   "metadata": {},
   "outputs": [
    {
     "data": {
      "text/plain": [
       "array([1, 2, 3], dtype=int64)"
      ]
     },
     "execution_count": 12,
     "metadata": {},
     "output_type": "execute_result"
    }
   ],
   "source": [
    "np.array([1,2,3],dtype = 'i8')"
   ]
  },
  {
   "cell_type": "code",
   "execution_count": 13,
   "id": "d565d41c",
   "metadata": {},
   "outputs": [
    {
     "data": {
      "text/plain": [
       "array([1.+0.j, 2.+0.j, 3.+0.j], dtype=complex64)"
      ]
     },
     "execution_count": 13,
     "metadata": {},
     "output_type": "execute_result"
    }
   ],
   "source": [
    "np.array([1,2,3],dtype = 'c8')"
   ]
  },
  {
   "cell_type": "code",
   "execution_count": 14,
   "id": "1310638a",
   "metadata": {},
   "outputs": [
    {
     "data": {
      "text/plain": [
       "array([1.+0.j, 2.+0.j, 3.+0.j])"
      ]
     },
     "execution_count": 14,
     "metadata": {},
     "output_type": "execute_result"
    }
   ],
   "source": [
    "np.array([1,2,3],dtype = 'c16')"
   ]
  },
  {
   "cell_type": "code",
   "execution_count": 15,
   "id": "929b4e55",
   "metadata": {},
   "outputs": [
    {
     "data": {
      "text/plain": [
       "array([b'1', b'2', b'3'], dtype='|S1')"
      ]
     },
     "execution_count": 15,
     "metadata": {},
     "output_type": "execute_result"
    }
   ],
   "source": [
    "np.array([1,2,3],dtype = 'c')"
   ]
  },
  {
   "cell_type": "code",
   "execution_count": 16,
   "id": "b0fb46b1",
   "metadata": {},
   "outputs": [
    {
     "ename": "TypeError",
     "evalue": "data type 'c2' not understood",
     "output_type": "error",
     "traceback": [
      "\u001b[1;31m---------------------------------------------------------------------------\u001b[0m",
      "\u001b[1;31mTypeError\u001b[0m                                 Traceback (most recent call last)",
      "Input \u001b[1;32mIn [16]\u001b[0m, in \u001b[0;36m<cell line: 1>\u001b[1;34m()\u001b[0m\n\u001b[1;32m----> 1\u001b[0m \u001b[43mnp\u001b[49m\u001b[38;5;241;43m.\u001b[39;49m\u001b[43marray\u001b[49m\u001b[43m(\u001b[49m\u001b[43m[\u001b[49m\u001b[38;5;241;43m1\u001b[39;49m\u001b[43m,\u001b[49m\u001b[38;5;241;43m2\u001b[39;49m\u001b[43m,\u001b[49m\u001b[38;5;241;43m3\u001b[39;49m\u001b[43m]\u001b[49m\u001b[43m,\u001b[49m\u001b[43mdtype\u001b[49m\u001b[43m \u001b[49m\u001b[38;5;241;43m=\u001b[39;49m\u001b[43m \u001b[49m\u001b[38;5;124;43m'\u001b[39;49m\u001b[38;5;124;43mc2\u001b[39;49m\u001b[38;5;124;43m'\u001b[39;49m\u001b[43m)\u001b[49m\n",
      "\u001b[1;31mTypeError\u001b[0m: data type 'c2' not understood"
     ]
    }
   ],
   "source": [
    "np.array([1,2,3],dtype = 'c2')"
   ]
  },
  {
   "cell_type": "code",
   "execution_count": 17,
   "id": "0fcecdf7",
   "metadata": {},
   "outputs": [
    {
     "ename": "TypeError",
     "evalue": "data type 'c32' not understood",
     "output_type": "error",
     "traceback": [
      "\u001b[1;31m---------------------------------------------------------------------------\u001b[0m",
      "\u001b[1;31mTypeError\u001b[0m                                 Traceback (most recent call last)",
      "Input \u001b[1;32mIn [17]\u001b[0m, in \u001b[0;36m<cell line: 1>\u001b[1;34m()\u001b[0m\n\u001b[1;32m----> 1\u001b[0m \u001b[43mnp\u001b[49m\u001b[38;5;241;43m.\u001b[39;49m\u001b[43marray\u001b[49m\u001b[43m(\u001b[49m\u001b[43m[\u001b[49m\u001b[38;5;241;43m1\u001b[39;49m\u001b[43m,\u001b[49m\u001b[38;5;241;43m2\u001b[39;49m\u001b[43m,\u001b[49m\u001b[38;5;241;43m3\u001b[39;49m\u001b[43m]\u001b[49m\u001b[43m,\u001b[49m\u001b[43mdtype\u001b[49m\u001b[43m \u001b[49m\u001b[38;5;241;43m=\u001b[39;49m\u001b[43m \u001b[49m\u001b[38;5;124;43m'\u001b[39;49m\u001b[38;5;124;43mc32\u001b[39;49m\u001b[38;5;124;43m'\u001b[39;49m\u001b[43m)\u001b[49m\n",
      "\u001b[1;31mTypeError\u001b[0m: data type 'c32' not understood"
     ]
    }
   ],
   "source": [
    "np.array([1,2,3],dtype = 'c32')"
   ]
  },
  {
   "cell_type": "code",
   "execution_count": 18,
   "id": "943372ec",
   "metadata": {},
   "outputs": [
    {
     "data": {
      "text/plain": [
       "array([1., 2., 3.], dtype=float32)"
      ]
     },
     "execution_count": 18,
     "metadata": {},
     "output_type": "execute_result"
    }
   ],
   "source": [
    "np.array([1,2,3],dtype = np.float32 )"
   ]
  },
  {
   "cell_type": "code",
   "execution_count": 19,
   "id": "c0083303",
   "metadata": {},
   "outputs": [
    {
     "data": {
      "text/plain": [
       "array([1., 2., 3.])"
      ]
     },
     "execution_count": 19,
     "metadata": {},
     "output_type": "execute_result"
    }
   ],
   "source": [
    "np.array([1,2,3],dtype = np.float64 )\n"
   ]
  },
  {
   "cell_type": "code",
   "execution_count": 20,
   "id": "b61ad6e6",
   "metadata": {},
   "outputs": [
    {
     "data": {
      "text/plain": [
       "array([1, 2, 3], dtype=int64)"
      ]
     },
     "execution_count": 20,
     "metadata": {},
     "output_type": "execute_result"
    }
   ],
   "source": [
    "np.array([1,2,3],dtype = np.int64 )"
   ]
  },
  {
   "cell_type": "code",
   "execution_count": 21,
   "id": "e3ea1a21",
   "metadata": {},
   "outputs": [
    {
     "data": {
      "text/plain": [
       "array([1, 2, 3])"
      ]
     },
     "execution_count": 21,
     "metadata": {},
     "output_type": "execute_result"
    }
   ],
   "source": [
    "np.array([1,2,3],dtype = np.int32 )"
   ]
  },
  {
   "cell_type": "code",
   "execution_count": 22,
   "id": "0de137a1",
   "metadata": {},
   "outputs": [
    {
     "data": {
      "text/plain": [
       "array([1, 2, 3], dtype=int64)"
      ]
     },
     "execution_count": 22,
     "metadata": {},
     "output_type": "execute_result"
    }
   ],
   "source": [
    "np.array([1,2,3],dtype = np.int64 )"
   ]
  },
  {
   "cell_type": "code",
   "execution_count": 23,
   "id": "53b348df",
   "metadata": {},
   "outputs": [
    {
     "data": {
      "text/plain": [
       "array([1.+0.j, 2.+0.j, 3.+0.j], dtype=complex64)"
      ]
     },
     "execution_count": 23,
     "metadata": {},
     "output_type": "execute_result"
    }
   ],
   "source": [
    "np.array([1,2,3],dtype = np.complex64 )"
   ]
  },
  {
   "cell_type": "code",
   "execution_count": 24,
   "id": "0aeb2d31",
   "metadata": {},
   "outputs": [
    {
     "data": {
      "text/plain": [
       "array([1.+0.j, 2.+0.j, 3.+0.j])"
      ]
     },
     "execution_count": 24,
     "metadata": {},
     "output_type": "execute_result"
    }
   ],
   "source": [
    "np.array([1,2,3],dtype = np.complex128 )"
   ]
  },
  {
   "cell_type": "code",
   "execution_count": 25,
   "id": "26d2eb25",
   "metadata": {},
   "outputs": [
    {
     "ename": "AttributeError",
     "evalue": "module 'numpy' has no attribute 'complex256'",
     "output_type": "error",
     "traceback": [
      "\u001b[1;31m---------------------------------------------------------------------------\u001b[0m",
      "\u001b[1;31mAttributeError\u001b[0m                            Traceback (most recent call last)",
      "Input \u001b[1;32mIn [25]\u001b[0m, in \u001b[0;36m<cell line: 1>\u001b[1;34m()\u001b[0m\n\u001b[1;32m----> 1\u001b[0m np\u001b[38;5;241m.\u001b[39marray([\u001b[38;5;241m1\u001b[39m,\u001b[38;5;241m2\u001b[39m,\u001b[38;5;241m3\u001b[39m],dtype \u001b[38;5;241m=\u001b[39m \u001b[43mnp\u001b[49m\u001b[38;5;241;43m.\u001b[39;49m\u001b[43mcomplex256\u001b[49m )\n",
      "File \u001b[1;32m~\\anaconda3\\lib\\site-packages\\numpy\\__init__.py:313\u001b[0m, in \u001b[0;36m__getattr__\u001b[1;34m(attr)\u001b[0m\n\u001b[0;32m    310\u001b[0m     \u001b[38;5;28;01mfrom\u001b[39;00m \u001b[38;5;21;01m.\u001b[39;00m\u001b[38;5;21;01mtesting\u001b[39;00m \u001b[38;5;28;01mimport\u001b[39;00m Tester\n\u001b[0;32m    311\u001b[0m     \u001b[38;5;28;01mreturn\u001b[39;00m Tester\n\u001b[1;32m--> 313\u001b[0m \u001b[38;5;28;01mraise\u001b[39;00m \u001b[38;5;167;01mAttributeError\u001b[39;00m(\u001b[38;5;124m\"\u001b[39m\u001b[38;5;124mmodule \u001b[39m\u001b[38;5;132;01m{!r}\u001b[39;00m\u001b[38;5;124m has no attribute \u001b[39m\u001b[38;5;124m\"\u001b[39m\n\u001b[0;32m    314\u001b[0m                      \u001b[38;5;124m\"\u001b[39m\u001b[38;5;132;01m{!r}\u001b[39;00m\u001b[38;5;124m\"\u001b[39m\u001b[38;5;241m.\u001b[39mformat(\u001b[38;5;18m__name__\u001b[39m, attr))\n",
      "\u001b[1;31mAttributeError\u001b[0m: module 'numpy' has no attribute 'complex256'"
     ]
    }
   ],
   "source": [
    "np.array([1,2,3],dtype = np.complex256 )"
   ]
  },
  {
   "cell_type": "markdown",
   "id": "d1f1fb08",
   "metadata": {},
   "source": [
    "# NP.ZEROES"
   ]
  },
  {
   "cell_type": "code",
   "execution_count": 26,
   "id": "ad8798d3",
   "metadata": {},
   "outputs": [
    {
     "data": {
      "text/plain": [
       "array([0., 0., 0., 0., 0.])"
      ]
     },
     "execution_count": 26,
     "metadata": {},
     "output_type": "execute_result"
    }
   ],
   "source": [
    "np.zeros(5)"
   ]
  },
  {
   "cell_type": "code",
   "execution_count": 27,
   "id": "68339d19",
   "metadata": {},
   "outputs": [
    {
     "data": {
      "text/plain": [
       "array([[0., 0., 0., 0., 0., 0., 0., 0., 0.],\n",
       "       [0., 0., 0., 0., 0., 0., 0., 0., 0.],\n",
       "       [0., 0., 0., 0., 0., 0., 0., 0., 0.],\n",
       "       [0., 0., 0., 0., 0., 0., 0., 0., 0.],\n",
       "       [0., 0., 0., 0., 0., 0., 0., 0., 0.],\n",
       "       [0., 0., 0., 0., 0., 0., 0., 0., 0.],\n",
       "       [0., 0., 0., 0., 0., 0., 0., 0., 0.],\n",
       "       [0., 0., 0., 0., 0., 0., 0., 0., 0.]])"
      ]
     },
     "execution_count": 27,
     "metadata": {},
     "output_type": "execute_result"
    }
   ],
   "source": [
    "np.zeros([8,9])"
   ]
  },
  {
   "cell_type": "code",
   "execution_count": 28,
   "id": "9216d798",
   "metadata": {},
   "outputs": [
    {
     "data": {
      "text/plain": [
       "array([0., 0., 0.])"
      ]
     },
     "execution_count": 28,
     "metadata": {},
     "output_type": "execute_result"
    }
   ],
   "source": [
    "np.zeros([3,])"
   ]
  },
  {
   "cell_type": "markdown",
   "id": "d07c00be",
   "metadata": {},
   "source": [
    "# np.full"
   ]
  },
  {
   "cell_type": "code",
   "execution_count": 29,
   "id": "b0674692",
   "metadata": {},
   "outputs": [
    {
     "data": {
      "text/plain": [
       "array([[100, 100, 100, 100],\n",
       "       [100, 100, 100, 100],\n",
       "       [100, 100, 100, 100],\n",
       "       [100, 100, 100, 100]])"
      ]
     },
     "execution_count": 29,
     "metadata": {},
     "output_type": "execute_result"
    }
   ],
   "source": [
    "np.full((4,4),fill_value=100)"
   ]
  },
  {
   "cell_type": "code",
   "execution_count": 30,
   "id": "88efe738",
   "metadata": {},
   "outputs": [
    {
     "data": {
      "text/plain": [
       "array([555, 555, 555, 555, 555])"
      ]
     },
     "execution_count": 30,
     "metadata": {},
     "output_type": "execute_result"
    }
   ],
   "source": [
    "np.full(5,fill_value = 555)"
   ]
  },
  {
   "cell_type": "code",
   "execution_count": 31,
   "id": "a169ad6b",
   "metadata": {},
   "outputs": [
    {
     "data": {
      "text/plain": [
       "array([[[1000, 1000, 1000, 1000],\n",
       "        [1000, 1000, 1000, 1000],\n",
       "        [1000, 1000, 1000, 1000]],\n",
       "\n",
       "       [[1000, 1000, 1000, 1000],\n",
       "        [1000, 1000, 1000, 1000],\n",
       "        [1000, 1000, 1000, 1000]]])"
      ]
     },
     "execution_count": 31,
     "metadata": {},
     "output_type": "execute_result"
    }
   ],
   "source": [
    "np.full((2,3,4),fill_value=1000)"
   ]
  },
  {
   "cell_type": "code",
   "execution_count": 32,
   "id": "0ad84295",
   "metadata": {},
   "outputs": [
    {
     "data": {
      "text/plain": [
       "array([['Rakesh15', 'Rakesh15', 'Rakesh15', 'Rakesh15', 'Rakesh15',\n",
       "        'Rakesh15', 'Rakesh15', 'Rakesh15', 'Rakesh15'],\n",
       "       ['Rakesh15', 'Rakesh15', 'Rakesh15', 'Rakesh15', 'Rakesh15',\n",
       "        'Rakesh15', 'Rakesh15', 'Rakesh15', 'Rakesh15'],\n",
       "       ['Rakesh15', 'Rakesh15', 'Rakesh15', 'Rakesh15', 'Rakesh15',\n",
       "        'Rakesh15', 'Rakesh15', 'Rakesh15', 'Rakesh15'],\n",
       "       ['Rakesh15', 'Rakesh15', 'Rakesh15', 'Rakesh15', 'Rakesh15',\n",
       "        'Rakesh15', 'Rakesh15', 'Rakesh15', 'Rakesh15'],\n",
       "       ['Rakesh15', 'Rakesh15', 'Rakesh15', 'Rakesh15', 'Rakesh15',\n",
       "        'Rakesh15', 'Rakesh15', 'Rakesh15', 'Rakesh15'],\n",
       "       ['Rakesh15', 'Rakesh15', 'Rakesh15', 'Rakesh15', 'Rakesh15',\n",
       "        'Rakesh15', 'Rakesh15', 'Rakesh15', 'Rakesh15'],\n",
       "       ['Rakesh15', 'Rakesh15', 'Rakesh15', 'Rakesh15', 'Rakesh15',\n",
       "        'Rakesh15', 'Rakesh15', 'Rakesh15', 'Rakesh15'],\n",
       "       ['Rakesh15', 'Rakesh15', 'Rakesh15', 'Rakesh15', 'Rakesh15',\n",
       "        'Rakesh15', 'Rakesh15', 'Rakesh15', 'Rakesh15']], dtype='<U8')"
      ]
     },
     "execution_count": 32,
     "metadata": {},
     "output_type": "execute_result"
    }
   ],
   "source": [
    "np.full((8,9),'Rakesh15')"
   ]
  },
  {
   "cell_type": "code",
   "execution_count": 33,
   "id": "c9403afd",
   "metadata": {},
   "outputs": [
    {
     "data": {
      "text/plain": [
       "array([[[8999, 8999, 8999, 8999],\n",
       "        [8999, 8999, 8999, 8999],\n",
       "        [8999, 8999, 8999, 8999]],\n",
       "\n",
       "       [[8999, 8999, 8999, 8999],\n",
       "        [8999, 8999, 8999, 8999],\n",
       "        [8999, 8999, 8999, 8999]],\n",
       "\n",
       "       [[8999, 8999, 8999, 8999],\n",
       "        [8999, 8999, 8999, 8999],\n",
       "        [8999, 8999, 8999, 8999]]])"
      ]
     },
     "execution_count": 33,
     "metadata": {},
     "output_type": "execute_result"
    }
   ],
   "source": [
    "np.full((3,3,4),8999)"
   ]
  },
  {
   "cell_type": "code",
   "execution_count": 34,
   "id": "23521a23",
   "metadata": {},
   "outputs": [
    {
     "data": {
      "text/plain": [
       "array([[2.+7.j, 2.+7.j, 2.+7.j, 2.+7.j],\n",
       "       [2.+7.j, 2.+7.j, 2.+7.j, 2.+7.j],\n",
       "       [2.+7.j, 2.+7.j, 2.+7.j, 2.+7.j],\n",
       "       [2.+7.j, 2.+7.j, 2.+7.j, 2.+7.j],\n",
       "       [2.+7.j, 2.+7.j, 2.+7.j, 2.+7.j],\n",
       "       [2.+7.j, 2.+7.j, 2.+7.j, 2.+7.j]])"
      ]
     },
     "execution_count": 34,
     "metadata": {},
     "output_type": "execute_result"
    }
   ],
   "source": [
    "np.full((6,4),2+7j)"
   ]
  },
  {
   "cell_type": "markdown",
   "id": "5a624d75",
   "metadata": {},
   "source": [
    "\n",
    "# np.empty"
   ]
  },
  {
   "cell_type": "code",
   "execution_count": 35,
   "id": "0b41c6b8",
   "metadata": {},
   "outputs": [
    {
     "data": {
      "text/plain": [
       "array([[6.23042070e-307, 4.67296746e-307, 1.69121096e-306,\n",
       "        1.20160575e-306, 6.23055991e-307],\n",
       "       [2.22526399e-307, 6.23053614e-307, 7.56592338e-307,\n",
       "        9.34588061e-307, 3.62651150e-317]])"
      ]
     },
     "execution_count": 35,
     "metadata": {},
     "output_type": "execute_result"
    }
   ],
   "source": [
    "np.empty((2,5))"
   ]
  },
  {
   "cell_type": "code",
   "execution_count": 36,
   "id": "e2f7fc09",
   "metadata": {},
   "outputs": [
    {
     "data": {
      "text/plain": [
       "array([[3801155, 5570652, 6619251],\n",
       "       [7536754, 5374044, 7012449],\n",
       "       [7536741, 6029416, 7340097],\n",
       "       [4456560, 7602273, 6029409],\n",
       "       [7274572, 6357091, 6029420]])"
      ]
     },
     "execution_count": 36,
     "metadata": {},
     "output_type": "execute_result"
    }
   ],
   "source": [
    "np.empty((5,3),dtype=int)"
   ]
  },
  {
   "cell_type": "code",
   "execution_count": 37,
   "id": "c8c68e25",
   "metadata": {},
   "outputs": [
    {
     "data": {
      "text/plain": [
       "array([[1.19375483e-311+1.01283457e-321j,\n",
       "        0.00000000e+000+0.00000000e+000j,\n",
       "        0.00000000e+000+1.16097020e-028j],\n",
       "       [1.26071127e-076+2.54818292e-028j,\n",
       "        1.44922440e-047+1.04917183e-153j,\n",
       "        5.23081515e-143+4.91508905e-062j],\n",
       "       [2.47139507e-056+2.14579267e+184j,\n",
       "        1.67406440e-076+1.70098498e+256j,\n",
       "        5.49109388e-143+1.06396443e+224j],\n",
       "       [3.96041428e+246+1.16318408e-028j,\n",
       "        3.38362750e-061+1.14372095e-071j,\n",
       "        1.41463934e-076+9.06181825e-043j],\n",
       "       [1.01848862e+248+1.16096643e-028j,\n",
       "        9.80058441e+252+7.50189709e+247j,\n",
       "        1.14484251e+243+2.59903827e-144j]])"
      ]
     },
     "execution_count": 37,
     "metadata": {},
     "output_type": "execute_result"
    }
   ],
   "source": [
    "np.empty((5,3),dtype=complex)"
   ]
  },
  {
   "cell_type": "code",
   "execution_count": 38,
   "id": "02bb5d19",
   "metadata": {},
   "outputs": [
    {
     "data": {
      "text/plain": [
       "array([[1.01283457e-321, 0.00000000e+000, 1.16097020e-028],\n",
       "       [2.54818292e-028, 1.04917183e-153, 4.91508905e-062],\n",
       "       [2.14579267e+184, 1.70098498e+256, 1.06396443e+224],\n",
       "       [1.16318408e-028, 1.14372095e-071, 9.06181825e-043],\n",
       "       [1.16096643e-028, 7.50189709e+247, 2.59903827e-144]])"
      ]
     },
     "execution_count": 38,
     "metadata": {},
     "output_type": "execute_result"
    }
   ],
   "source": [
    "np.empty((5,3),dtype=float)"
   ]
  },
  {
   "cell_type": "code",
   "execution_count": 39,
   "id": "9b7a393a",
   "metadata": {},
   "outputs": [
    {
     "data": {
      "text/plain": [
       "array([[      0,       0,       0],\n",
       "       [      0,       0,       0],\n",
       "       [      0,       0,       0],\n",
       "       [      0,     328,       0],\n",
       "       [      0, 6029409,       0]])"
      ]
     },
     "execution_count": 39,
     "metadata": {},
     "output_type": "execute_result"
    }
   ],
   "source": [
    "np.empty((5,3),dtype=int)"
   ]
  },
  {
   "cell_type": "code",
   "execution_count": 40,
   "id": "f1ddead7",
   "metadata": {},
   "outputs": [
    {
     "data": {
      "text/plain": [
       "array([[[       205,          0,          0,          0, 1633952379],\n",
       "        [ 975332724,  942681400,  976498772,  808464434,  539763290],\n",
       "        [1663180858,  859060273,  963011427, 1714697008,  577135411]],\n",
       "\n",
       "       [[1965170732, 1965170746, 1852990835, 1769173861,  975335023],\n",
       "        [1664103013,  825505074,  946221105,  926168418, 2037669735],\n",
       "        [ 975332720, 1701994341, 1936029041, 1852795251,  572537378]]])"
      ]
     },
     "execution_count": 40,
     "metadata": {},
     "output_type": "execute_result"
    }
   ],
   "source": [
    "np.empty((2,3,5),dtype=int)"
   ]
  },
  {
   "cell_type": "code",
   "execution_count": 41,
   "id": "65749859",
   "metadata": {},
   "outputs": [
    {
     "data": {
      "text/plain": [
       "array([[[0, 0],\n",
       "        [0, 0],\n",
       "        [0, 0]],\n",
       "\n",
       "       [[0, 0],\n",
       "        [0, 0],\n",
       "        [0, 0]]])"
      ]
     },
     "execution_count": 41,
     "metadata": {},
     "output_type": "execute_result"
    }
   ],
   "source": [
    "np.empty((2,3,2),'int')"
   ]
  },
  {
   "cell_type": "code",
   "execution_count": 42,
   "id": "900a38dc",
   "metadata": {},
   "outputs": [
    {
     "data": {
      "text/plain": [
       "array([[[1.19375472e-311, 2.47032823e-322],\n",
       "        [0.00000000e+000, 0.00000000e+000],\n",
       "        [1.18831764e-312, 5.74084271e+169],\n",
       "        [7.42883904e-091, 1.83119718e-076],\n",
       "        [9.99800477e-048, 6.35015184e-066],\n",
       "        [3.99910963e+252, 1.45002519e-047]]])"
      ]
     },
     "execution_count": 42,
     "metadata": {},
     "output_type": "execute_result"
    }
   ],
   "source": [
    "np.empty((1,6,2),'float')"
   ]
  },
  {
   "cell_type": "code",
   "execution_count": 43,
   "id": "715dc8d8",
   "metadata": {},
   "outputs": [
    {
     "data": {
      "text/plain": [
       "array([[[7.+7.j, 7.+7.j, 7.+7.j],\n",
       "        [7.+7.j, 7.+7.j, 7.+7.j]],\n",
       "\n",
       "       [[7.+7.j, 7.+7.j, 7.+7.j],\n",
       "        [7.+7.j, 7.+7.j, 7.+7.j]]])"
      ]
     },
     "execution_count": 43,
     "metadata": {},
     "output_type": "execute_result"
    }
   ],
   "source": [
    "np.empty((2,2,3), complex)"
   ]
  },
  {
   "cell_type": "markdown",
   "id": "753a2790",
   "metadata": {},
   "source": [
    "# NP EYE and IDENTITY "
   ]
  },
  {
   "cell_type": "code",
   "execution_count": 44,
   "id": "f2398ef0",
   "metadata": {},
   "outputs": [
    {
     "data": {
      "text/plain": [
       "array([[1., 0., 0., 0., 0.],\n",
       "       [0., 1., 0., 0., 0.],\n",
       "       [0., 0., 1., 0., 0.],\n",
       "       [0., 0., 0., 1., 0.],\n",
       "       [0., 0., 0., 0., 1.]])"
      ]
     },
     "execution_count": 44,
     "metadata": {},
     "output_type": "execute_result"
    }
   ],
   "source": [
    "np.eye(5)"
   ]
  },
  {
   "cell_type": "code",
   "execution_count": 45,
   "id": "5aaa5351",
   "metadata": {},
   "outputs": [
    {
     "data": {
      "text/plain": [
       "array([[0, 1, 0, 0, 0],\n",
       "       [0, 0, 1, 0, 0],\n",
       "       [0, 0, 0, 1, 0],\n",
       "       [0, 0, 0, 0, 1]])"
      ]
     },
     "execution_count": 45,
     "metadata": {},
     "output_type": "execute_result"
    }
   ],
   "source": [
    "np.eye(4,5,k=1,dtype=int)"
   ]
  },
  {
   "cell_type": "code",
   "execution_count": 46,
   "id": "16d51be9",
   "metadata": {},
   "outputs": [
    {
     "data": {
      "text/plain": [
       "array([[1.]])"
      ]
     },
     "execution_count": 46,
     "metadata": {},
     "output_type": "execute_result"
    }
   ],
   "source": [
    "np.identity(1)"
   ]
  },
  {
   "cell_type": "code",
   "execution_count": 47,
   "id": "6ee5e8c8",
   "metadata": {},
   "outputs": [],
   "source": [
    "#only integer can be placed in identity\n"
   ]
  },
  {
   "cell_type": "markdown",
   "id": "638e74d7",
   "metadata": {},
   "source": [
    "float and complex shows error\n"
   ]
  },
  {
   "cell_type": "markdown",
   "id": "969893e7",
   "metadata": {},
   "source": [
    "# linspace and arange"
   ]
  },
  {
   "cell_type": "code",
   "execution_count": 60,
   "id": "3c9c038b",
   "metadata": {},
   "outputs": [
    {
     "data": {
      "text/plain": [
       "(array([ 1,  2,  3,  4,  5,  6,  7,  8,  9, 10, 11, 12, 13, 14, 15, 16, 17,\n",
       "        18, 19, 20, 21, 22, 23, 24, 25, 26, 27, 28, 29, 30, 31, 32, 33, 34,\n",
       "        35, 36, 37, 38, 39, 40, 41, 42, 43, 44, 45, 46, 47, 48, 49, 50]),\n",
       " 1.0)"
      ]
     },
     "execution_count": 60,
     "metadata": {},
     "output_type": "execute_result"
    }
   ],
   "source": [
    "np.linspace(1,50,retstep=True,dtype=int)"
   ]
  },
  {
   "cell_type": "code",
   "execution_count": 61,
   "id": "0dbcaeee",
   "metadata": {},
   "outputs": [
    {
     "data": {
      "text/plain": [
       "(array([-6.        , -4.22222222, -2.44444444, -0.66666667,  1.11111111,\n",
       "         2.88888889,  4.66666667,  6.44444444,  8.22222222, 10.        ,\n",
       "        11.77777778, 13.55555556, 15.33333333, 17.11111111, 18.88888889,\n",
       "        20.66666667, 22.44444444, 24.22222222, 26.        , 27.77777778,\n",
       "        29.55555556, 31.33333333, 33.11111111, 34.88888889, 36.66666667,\n",
       "        38.44444444, 40.22222222, 42.        , 43.77777778, 45.55555556,\n",
       "        47.33333333, 49.11111111, 50.88888889, 52.66666667, 54.44444444,\n",
       "        56.22222222, 58.        , 59.77777778, 61.55555556, 63.33333333,\n",
       "        65.11111111, 66.88888889, 68.66666667, 70.44444444, 72.22222222,\n",
       "        74.        , 75.77777778, 77.55555556, 79.33333333, 81.11111111,\n",
       "        82.88888889, 84.66666667, 86.44444444, 88.22222222, 90.        ]),\n",
       " 1.7777777777777777)"
      ]
     },
     "execution_count": 61,
     "metadata": {},
     "output_type": "execute_result"
    }
   ],
   "source": [
    "np.linspace(-6,90,55,retstep=True)"
   ]
  },
  {
   "cell_type": "code",
   "execution_count": 62,
   "id": "935b10b3",
   "metadata": {},
   "outputs": [
    {
     "data": {
      "text/plain": [
       "(array([-80, -79, -77, -75, -74, -72, -70, -68, -67, -65, -63, -62, -60,\n",
       "        -58, -56, -55, -53, -51, -50, -48, -46, -44, -43, -41, -39, -38,\n",
       "        -36, -34, -32, -31, -29, -27, -26, -24, -22, -20, -19, -17, -15,\n",
       "        -14, -12, -10,  -8,  -7,  -5,  -3,  -2,   0,   2,   4,   5,   7,\n",
       "          9,  11,  12,  14,  16,  17,  19,  21,  23,  24,  26,  28,  29,\n",
       "         31,  33,  35,  36,  38,  40,  41,  43,  45,  47,  48,  50,  52,\n",
       "         53,  55,  57,  59,  60,  62,  64,  65,  67,  69,  71,  72,  74,\n",
       "         76,  77,  79,  81,  83,  84,  86,  88,  90]),\n",
       " 1.7171717171717171)"
      ]
     },
     "execution_count": 62,
     "metadata": {},
     "output_type": "execute_result"
    }
   ],
   "source": [
    "np.linspace(-80,90,100,retstep=True,dtype = int)"
   ]
  },
  {
   "cell_type": "code",
   "execution_count": 63,
   "id": "9e38dcad",
   "metadata": {},
   "outputs": [
    {
     "data": {
      "text/plain": [
       "array([7, 8])"
      ]
     },
     "execution_count": 63,
     "metadata": {},
     "output_type": "execute_result"
    }
   ],
   "source": [
    "np.arange(7,9)"
   ]
  },
  {
   "cell_type": "code",
   "execution_count": 64,
   "id": "b6aa1ccc",
   "metadata": {},
   "outputs": [
    {
     "data": {
      "text/plain": [
       "[7, 8]"
      ]
     },
     "execution_count": 64,
     "metadata": {},
     "output_type": "execute_result"
    }
   ],
   "source": [
    "list(range(7,9))"
   ]
  },
  {
   "cell_type": "code",
   "execution_count": 65,
   "id": "c93a4262",
   "metadata": {},
   "outputs": [
    {
     "data": {
      "text/plain": [
       "array([ 1,  2,  3,  4,  5,  6,  7,  8,  9, 10, 11, 12, 13, 14, 15, 16, 17,\n",
       "       18, 19, 20, 21, 22, 23, 24, 25, 26, 27, 28, 29, 30, 31, 32, 33, 34,\n",
       "       35, 36, 37, 38, 39, 40, 41, 42, 43, 44, 45, 46, 47, 48, 49, 50, 51,\n",
       "       52, 53, 54, 55])"
      ]
     },
     "execution_count": 65,
     "metadata": {},
     "output_type": "execute_result"
    }
   ],
   "source": [
    "np.arange(1,56)"
   ]
  },
  {
   "cell_type": "markdown",
   "id": "25692412",
   "metadata": {},
   "source": [
    "# MATPLOTLIB"
   ]
  },
  {
   "cell_type": "code",
   "execution_count": null,
   "id": "cc7fa27c",
   "metadata": {},
   "outputs": [],
   "source": [
    "\n",
    "\n"
   ]
  },
  {
   "cell_type": "code",
   "execution_count": null,
   "id": "3826b581",
   "metadata": {},
   "outputs": [],
   "source": [
    "import numpy as np"
   ]
  },
  {
   "cell_type": "code",
   "execution_count": 6,
   "id": "49ed379a",
   "metadata": {},
   "outputs": [
    {
     "data": {
      "text/plain": [
       "[<matplotlib.lines.Line2D at 0x2cd102098e0>]"
      ]
     },
     "execution_count": 6,
     "metadata": {},
     "output_type": "execute_result"
    },
    {
     "data": {
      "image/png": "[encoded data removed]",
      "text/plain": [
       "<Figure size 432x288 with 1 Axes>"
      ]
     },
     "metadata": {
      "needs_background": "light"
     },
     "output_type": "display_data"
    }
   ],
   "source": [
    "import numpy as np\n",
    "import matplotlib.pyplot as plt\n",
    "x = np.linspace(3,20,100)\n",
    "y = np.sin(x)\n",
    "plt.plot(x,y)"
   ]
  },
  {
   "cell_type": "code",
   "execution_count": 8,
   "id": "c688f8c3",
   "metadata": {},
   "outputs": [
    {
     "data": {
      "text/plain": [
       "[<matplotlib.lines.Line2D at 0x2cd102f4370>]"
      ]
     },
     "execution_count": 8,
     "metadata": {},
     "output_type": "execute_result"
    },
    {
     "data": {
      "image/png": "[encoded data removed]",
      "text/plain": [
       "<Figure size 432x288 with 1 Axes>"
      ]
     },
     "metadata": {
      "needs_background": "light"
     },
     "output_type": "display_data"
    }
   ],
   "source": [
    "x = np.arange(5,91,5)\n",
    "y = np.sin(x)\n",
    "plt.plot(x,y,'--r')"
   ]
  },
  {
   "cell_type": "code",
   "execution_count": 10,
   "id": "dcd8c20a",
   "metadata": {},
   "outputs": [
    {
     "data": {
      "text/plain": [
       "[<matplotlib.lines.Line2D at 0x2cd10381cd0>]"
      ]
     },
     "execution_count": 10,
     "metadata": {},
     "output_type": "execute_result"
    },
    {
     "data": {
      "image/png": "[encoded data removed]",
      "text/plain": [
       "<Figure size 432x288 with 1 Axes>"
      ]
     },
     "metadata": {
      "needs_background": "light"
     },
     "output_type": "display_data"
    }
   ],
   "source": [
    "x = np.arange(2,92,3)\n",
    "y = np.cos(x)\n",
    "plt.plot(x,y)"
   ]
  },
  {
   "cell_type": "code",
   "execution_count": 15,
   "id": "7764216e",
   "metadata": {},
   "outputs": [
    {
     "data": {
      "text/plain": [
       "[<matplotlib.lines.Line2D at 0x2cd11553d60>]"
      ]
     },
     "execution_count": 15,
     "metadata": {},
     "output_type": "execute_result"
    },
    {
     "data": {
      "image/png": "[encoded data removed]",
      "text/plain": [
       "<Figure size 432x288 with 1 Axes>"
      ]
     },
     "metadata": {
      "needs_background": "light"
     },
     "output_type": "display_data"
    }
   ],
   "source": [
    "\n",
    "x = np.linspace(2,100,50)\n",
    "y = np.cos(x)\n",
    "plt.plot(x,y)"
   ]
  },
  {
   "cell_type": "code",
   "execution_count": 17,
   "id": "eecd1375",
   "metadata": {},
   "outputs": [
    {
     "data": {
      "text/plain": [
       "[<matplotlib.lines.Line2D at 0x2cd115ead30>]"
      ]
     },
     "execution_count": 17,
     "metadata": {},
     "output_type": "execute_result"
    },
    {
     "data": {
      "image/png": "[encoded data removed]",
      "text/plain": [
       "<Figure size 432x288 with 1 Axes>"
      ]
     },
     "metadata": {
      "needs_background": "light"
     },
     "output_type": "display_data"
    }
   ],
   "source": [
    "x = np.linspace(3,2000,100)\n",
    "y = np.sin(x)\n",
    "plt.plot(x,y)"
   ]
  },
  {
   "cell_type": "code",
   "execution_count": null,
   "id": "d74aab4c",
   "metadata": {},
   "outputs": [],
   "source": []
  },
  {
   "cell_type": "code",
   "execution_count": null,
   "id": "4b17d993",
   "metadata": {},
   "outputs": [],
   "source": []
  },
  {
   "cell_type": "code",
   "execution_count": null,
   "id": "b61f70b6",
   "metadata": {},
   "outputs": [],
   "source": []
  },
  {
   "cell_type": "code",
   "execution_count": null,
   "id": "2cf9be88",
   "metadata": {},
   "outputs": [],
   "source": []
  },
  {
   "cell_type": "code",
   "execution_count": null,
   "id": "383cf163",
   "metadata": {},
   "outputs": [],
   "source": []
  },
  {
   "cell_type": "code",
   "execution_count": null,
   "id": "845f2a68",
   "metadata": {},
   "outputs": [],
   "source": []
  },
  {
   "cell_type": "code",
   "execution_count": null,
   "id": "edb1fc41",
   "metadata": {},
   "outputs": [],
   "source": []
  },
  {
   "cell_type": "code",
   "execution_count": null,
   "id": "51ec7805",
   "metadata": {},
   "outputs": [],
   "source": []
  },
  {
   "cell_type": "code",
   "execution_count": null,
   "id": "9f34b35e",
   "metadata": {},
   "outputs": [],
   "source": []
  },
  {
   "cell_type": "code",
   "execution_count": null,
   "id": "017b572d",
   "metadata": {},
   "outputs": [],
   "source": []
  },
  {
   "cell_type": "code",
   "execution_count": null,
   "id": "a881ffa0",
   "metadata": {},
   "outputs": [],
   "source": []
  }
 ],
 "metadata": {
  "kernelspec": {
   "display_name": "Python 3 (ipykernel)",
   "language": "python",
   "name": "python3"
  },
  "language_info": {
   "codemirror_mode": {
    "name": "ipython",
    "version": 3
   },
   "file_extension": ".py",
   "mimetype": "text/x-python",
   "name": "python",
   "nbconvert_exporter": "python",
   "pygments_lexer": "ipython3",
   "version": "3.9.12"
  }
 },
 "nbformat": 4,
 "nbformat_minor": 5
}
