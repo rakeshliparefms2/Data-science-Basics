{
 "cells": [
  {
   "cell_type": "markdown",
   "id": "c8eeaf13",
   "metadata": {},
   "source": [
    "# NUMPY DATA TYPES"
   ]
  },
  {
   "cell_type": "code",
   "execution_count": 2,
   "id": "c959f9fe",
   "metadata": {},
   "outputs": [],
   "source": [
    "\n",
    "import numpy as np\n"
   ]
  },
  {
   "cell_type": "code",
   "execution_count": 3,
   "id": "0919fbd7",
   "metadata": {},
   "outputs": [
    {
     "data": {
      "text/plain": [
       "array([2, 3, 4, 5])"
      ]
     },
     "execution_count": 3,
     "metadata": {},
     "output_type": "execute_result"
    }
   ],
   "source": [
    "np.array([2,3,4,5])"
   ]
  },
  {
   "cell_type": "code",
   "execution_count": 9,
   "id": "692610a2",
   "metadata": {},
   "outputs": [
    {
     "data": {
      "text/plain": [
       "array([2., 3., 4., 5.])"
      ]
     },
     "execution_count": 9,
     "metadata": {},
     "output_type": "execute_result"
    }
   ],
   "source": [
    "np.array([2,3,4,5],'f8')"
   ]
  },
  {
   "cell_type": "code",
   "execution_count": 12,
   "id": "678c8365",
   "metadata": {},
   "outputs": [
    {
     "data": {
      "text/plain": [
       "array([2.+0.j, 3.+0.j, 4.+0.j, 5.+0.j])"
      ]
     },
     "execution_count": 12,
     "metadata": {},
     "output_type": "execute_result"
    }
   ],
   "source": [
    "np.array([2,3,4,5], 'c16')"
   ]
  },
  {
   "cell_type": "code",
   "execution_count": 13,
   "id": "5727f58f",
   "metadata": {},
   "outputs": [
    {
     "data": {
      "text/plain": [
       "array([2, 3, 4, 5], dtype=int64)"
      ]
     },
     "execution_count": 13,
     "metadata": {},
     "output_type": "execute_result"
    }
   ],
   "source": [
    "np.array([2,3,4,5],dtype='int64')"
   ]
  },
  {
   "cell_type": "code",
   "execution_count": 14,
   "id": "e163f18e",
   "metadata": {},
   "outputs": [
    {
     "data": {
      "text/plain": [
       "array([2, 3, 4, 5])"
      ]
     },
     "execution_count": 14,
     "metadata": {},
     "output_type": "execute_result"
    }
   ],
   "source": [
    "np.array([2,3,4,5],dtype='int32')"
   ]
  },
  {
   "cell_type": "code",
   "execution_count": 15,
   "id": "29679617",
   "metadata": {},
   "outputs": [
    {
     "data": {
      "text/plain": [
       "array([2, 3, 4, 5], dtype=int16)"
      ]
     },
     "execution_count": 15,
     "metadata": {},
     "output_type": "execute_result"
    }
   ],
   "source": [
    "np.array([2,3,4,5],dtype='int16')"
   ]
  },
  {
   "cell_type": "code",
   "execution_count": 16,
   "id": "bf1f16a8",
   "metadata": {},
   "outputs": [
    {
     "data": {
      "text/plain": [
       "array([2., 3., 4., 5.], dtype=float32)"
      ]
     },
     "execution_count": 16,
     "metadata": {},
     "output_type": "execute_result"
    }
   ],
   "source": [
    "np.array([2,3,4,5],dtype='float32')"
   ]
  },
  {
   "cell_type": "code",
   "execution_count": 17,
   "id": "b0e6134a",
   "metadata": {},
   "outputs": [
    {
     "data": {
      "text/plain": [
       "array([2., 3., 4., 5.])"
      ]
     },
     "execution_count": 17,
     "metadata": {},
     "output_type": "execute_result"
    }
   ],
   "source": [
    "np.array([2,3,4,5],dtype='float64' )"
   ]
  },
  {
   "cell_type": "code",
   "execution_count": 18,
   "id": "3be203f3",
   "metadata": {},
   "outputs": [
    {
     "data": {
      "text/plain": [
       "array([2.+0.j, 3.+0.j, 4.+0.j, 5.+0.j], dtype=complex64)"
      ]
     },
     "execution_count": 18,
     "metadata": {},
     "output_type": "execute_result"
    }
   ],
   "source": [
    "np.array([2,3,4,5], dtype='complex64')"
   ]
  },
  {
   "cell_type": "code",
   "execution_count": 19,
   "id": "a62b4c5e",
   "metadata": {},
   "outputs": [
    {
     "data": {
      "text/plain": [
       "array([2.+0.j, 3.+0.j, 4.+0.j, 5.+0.j])"
      ]
     },
     "execution_count": 19,
     "metadata": {},
     "output_type": "execute_result"
    }
   ],
   "source": [
    "np.array([2,3,4,5],dtype='complex128')"
   ]
  },
  {
   "cell_type": "code",
   "execution_count": 21,
   "id": "ebd7da17",
   "metadata": {},
   "outputs": [
    {
     "ename": "TypeError",
     "evalue": "data type 'complex256' not understood",
     "output_type": "error",
     "traceback": [
      "\u001b[1;31m---------------------------------------------------------------------------\u001b[0m",
      "\u001b[1;31mTypeError\u001b[0m                                 Traceback (most recent call last)",
      "Input \u001b[1;32mIn [21]\u001b[0m, in \u001b[0;36m<cell line: 1>\u001b[1;34m()\u001b[0m\n\u001b[1;32m----> 1\u001b[0m \u001b[43mnp\u001b[49m\u001b[38;5;241;43m.\u001b[39;49m\u001b[43marray\u001b[49m\u001b[43m(\u001b[49m\u001b[43m[\u001b[49m\u001b[38;5;241;43m2\u001b[39;49m\u001b[43m,\u001b[49m\u001b[38;5;241;43m3\u001b[39;49m\u001b[43m,\u001b[49m\u001b[38;5;241;43m4\u001b[39;49m\u001b[43m,\u001b[49m\u001b[38;5;241;43m5\u001b[39;49m\u001b[43m]\u001b[49m\u001b[43m,\u001b[49m\u001b[43mdtype\u001b[49m\u001b[38;5;241;43m=\u001b[39;49m\u001b[38;5;124;43m'\u001b[39;49m\u001b[38;5;124;43mcomplex256\u001b[39;49m\u001b[38;5;124;43m'\u001b[39;49m\u001b[43m)\u001b[49m\n",
      "\u001b[1;31mTypeError\u001b[0m: data type 'complex256' not understood"
     ]
    }
   ],
   "source": [
    "np.array([2,3,4,5],dtype='complex256')"
   ]
  },
  {
   "cell_type": "markdown",
   "id": "b272d765",
   "metadata": {},
   "source": [
    "# NUMPY ZEROS"
   ]
  },
  {
   "cell_type": "code",
   "execution_count": 26,
   "id": "41fd9984",
   "metadata": {},
   "outputs": [
    {
     "data": {
      "text/plain": [
       "array([0, 0])"
      ]
     },
     "execution_count": 26,
     "metadata": {},
     "output_type": "execute_result"
    }
   ],
   "source": [
    "np.zeros(2,dtype='int32')"
   ]
  },
  {
   "cell_type": "code",
   "execution_count": 27,
   "id": "ba3f5d51",
   "metadata": {},
   "outputs": [
    {
     "data": {
      "text/plain": [
       "array([0, 0, 0, 0, 0, 0])"
      ]
     },
     "execution_count": 27,
     "metadata": {},
     "output_type": "execute_result"
    }
   ],
   "source": [
    "np.zeros(6,'i4')"
   ]
  },
  {
   "cell_type": "code",
   "execution_count": 28,
   "id": "83114d73",
   "metadata": {},
   "outputs": [
    {
     "data": {
      "text/plain": [
       "array([[0, 0, 0, 0, 0],\n",
       "       [0, 0, 0, 0, 0],\n",
       "       [0, 0, 0, 0, 0]])"
      ]
     },
     "execution_count": 28,
     "metadata": {},
     "output_type": "execute_result"
    }
   ],
   "source": [
    "np.zeros([3,5],'i4')"
   ]
  },
  {
   "cell_type": "code",
   "execution_count": 29,
   "id": "a25900f7",
   "metadata": {},
   "outputs": [
    {
     "data": {
      "text/plain": [
       "array([[[0, 0, 0, 0, 0],\n",
       "        [0, 0, 0, 0, 0],\n",
       "        [0, 0, 0, 0, 0]],\n",
       "\n",
       "       [[0, 0, 0, 0, 0],\n",
       "        [0, 0, 0, 0, 0],\n",
       "        [0, 0, 0, 0, 0]]])"
      ]
     },
     "execution_count": 29,
     "metadata": {},
     "output_type": "execute_result"
    }
   ],
   "source": [
    "np.zeros([2,3,5],'i4')"
   ]
  },
  {
   "cell_type": "code",
   "execution_count": 30,
   "id": "5bd44db8",
   "metadata": {},
   "outputs": [
    {
     "data": {
      "text/plain": [
       "array([[1, 0, 0],\n",
       "       [0, 1, 0],\n",
       "       [0, 0, 1]])"
      ]
     },
     "execution_count": 30,
     "metadata": {},
     "output_type": "execute_result"
    }
   ],
   "source": [
    "np.identity(3,'i4')"
   ]
  },
  {
   "cell_type": "code",
   "execution_count": 41,
   "id": "3521cfe7",
   "metadata": {},
   "outputs": [
    {
     "data": {
      "text/plain": [
       "array([[[1, 0, 0],\n",
       "        [0, 1, 0],\n",
       "        [0, 0, 1]]])"
      ]
     },
     "execution_count": 41,
     "metadata": {},
     "output_type": "execute_result"
    }
   ],
   "source": [
    "a = np.array([[[1,0,0],[0,1,0],[0,0,1]]])\n",
    "a"
   ]
  },
  {
   "cell_type": "code",
   "execution_count": 40,
   "id": "34c80070",
   "metadata": {},
   "outputs": [
    {
     "data": {
      "text/plain": [
       "numpy.ndarray"
      ]
     },
     "execution_count": 40,
     "metadata": {},
     "output_type": "execute_result"
    }
   ],
   "source": [
    "type(a)"
   ]
  },
  {
   "cell_type": "code",
   "execution_count": 42,
   "id": "3a641789",
   "metadata": {},
   "outputs": [
    {
     "data": {
      "text/plain": [
       "array([[1, 0, 0, 0, 0, 0, 0, 0, 0],\n",
       "       [0, 1, 0, 0, 0, 0, 0, 0, 0],\n",
       "       [0, 0, 1, 0, 0, 0, 0, 0, 0],\n",
       "       [0, 0, 0, 1, 0, 0, 0, 0, 0],\n",
       "       [0, 0, 0, 0, 1, 0, 0, 0, 0],\n",
       "       [0, 0, 0, 0, 0, 1, 0, 0, 0],\n",
       "       [0, 0, 0, 0, 0, 0, 1, 0, 0],\n",
       "       [0, 0, 0, 0, 0, 0, 0, 1, 0],\n",
       "       [0, 0, 0, 0, 0, 0, 0, 0, 1]])"
      ]
     },
     "execution_count": 42,
     "metadata": {},
     "output_type": "execute_result"
    }
   ],
   "source": [
    "np.identity(9,'i4')"
   ]
  },
  {
   "cell_type": "code",
   "execution_count": 46,
   "id": "31b3d756",
   "metadata": {},
   "outputs": [
    {
     "data": {
      "text/plain": [
       "array([[1, 0, 0],\n",
       "       [0, 1, 0],\n",
       "       [0, 0, 1]])"
      ]
     },
     "execution_count": 46,
     "metadata": {},
     "output_type": "execute_result"
    }
   ],
   "source": [
    "np.identity(3,'i4')"
   ]
  },
  {
   "cell_type": "code",
   "execution_count": 49,
   "id": "9ba1322a",
   "metadata": {},
   "outputs": [
    {
     "data": {
      "text/plain": [
       "array([['Rakesh@123&Manisha@123', 'Rakesh@123&Manisha@123',\n",
       "        'Rakesh@123&Manisha@123', 'Rakesh@123&Manisha@123',\n",
       "        'Rakesh@123&Manisha@123'],\n",
       "       ['Rakesh@123&Manisha@123', 'Rakesh@123&Manisha@123',\n",
       "        'Rakesh@123&Manisha@123', 'Rakesh@123&Manisha@123',\n",
       "        'Rakesh@123&Manisha@123'],\n",
       "       ['Rakesh@123&Manisha@123', 'Rakesh@123&Manisha@123',\n",
       "        'Rakesh@123&Manisha@123', 'Rakesh@123&Manisha@123',\n",
       "        'Rakesh@123&Manisha@123']], dtype='<U22')"
      ]
     },
     "execution_count": 49,
     "metadata": {},
     "output_type": "execute_result"
    }
   ],
   "source": [
    "np.full([3,5],'Rakesh@123&Manisha@123')\n"
   ]
  },
  {
   "cell_type": "code",
   "execution_count": 50,
   "id": "e7b238d8",
   "metadata": {},
   "outputs": [
    {
     "data": {
      "text/plain": [
       "array([[['Rakesh@123', 'Rakesh@123', 'Rakesh@123', 'Rakesh@123',\n",
       "         'Rakesh@123', 'Rakesh@123'],\n",
       "        ['Rakesh@123', 'Rakesh@123', 'Rakesh@123', 'Rakesh@123',\n",
       "         'Rakesh@123', 'Rakesh@123'],\n",
       "        ['Rakesh@123', 'Rakesh@123', 'Rakesh@123', 'Rakesh@123',\n",
       "         'Rakesh@123', 'Rakesh@123'],\n",
       "        ['Rakesh@123', 'Rakesh@123', 'Rakesh@123', 'Rakesh@123',\n",
       "         'Rakesh@123', 'Rakesh@123']],\n",
       "\n",
       "       [['Rakesh@123', 'Rakesh@123', 'Rakesh@123', 'Rakesh@123',\n",
       "         'Rakesh@123', 'Rakesh@123'],\n",
       "        ['Rakesh@123', 'Rakesh@123', 'Rakesh@123', 'Rakesh@123',\n",
       "         'Rakesh@123', 'Rakesh@123'],\n",
       "        ['Rakesh@123', 'Rakesh@123', 'Rakesh@123', 'Rakesh@123',\n",
       "         'Rakesh@123', 'Rakesh@123'],\n",
       "        ['Rakesh@123', 'Rakesh@123', 'Rakesh@123', 'Rakesh@123',\n",
       "         'Rakesh@123', 'Rakesh@123']]], dtype='<U10')"
      ]
     },
     "execution_count": 50,
     "metadata": {},
     "output_type": "execute_result"
    }
   ],
   "source": [
    "np.full([2,4,6],'Rakesh@123')"
   ]
  },
  {
   "cell_type": "code",
   "execution_count": 51,
   "id": "09b813b9",
   "metadata": {},
   "outputs": [
    {
     "data": {
      "text/plain": [
       "array(['Rakessh', 'Rakessh'], dtype='<U7')"
      ]
     },
     "execution_count": 51,
     "metadata": {},
     "output_type": "execute_result"
    }
   ],
   "source": [
    "np.full(2,'Rakessh')"
   ]
  },
  {
   "cell_type": "code",
   "execution_count": 53,
   "id": "c259e30c",
   "metadata": {},
   "outputs": [
    {
     "data": {
      "text/plain": [
       "array([1.15e-43, 1.36e-43, 1.50e-43, 1.42e-43, 1.61e-43, 1.46e-43,\n",
       "       8.97e-44, 6.87e-44, 7.01e-44], dtype=float32)"
      ]
     },
     "execution_count": 53,
     "metadata": {},
     "output_type": "execute_result"
    }
   ],
   "source": [
    "np.empty(9,'f4')"
   ]
  },
  {
   "cell_type": "code",
   "execution_count": 54,
   "id": "96e8fda6",
   "metadata": {},
   "outputs": [
    {
     "data": {
      "text/plain": [
       "array([[            nan            +nanj,\n",
       "                    nan+6.95263355e-310j,\n",
       "        0.00000000e+000+6.95263355e-310j,\n",
       "        2.12199579e-314+6.95263355e-310j,\n",
       "        9.88131292e-324+0.00000000e+000j],\n",
       "       [0.00000000e+000+2.12199579e-311j,\n",
       "                    nan+2.12199579e-314j,\n",
       "        4.94065646e-324+4.94065646e-324j,\n",
       "        0.00000000e+000+1.07440919e-311j,\n",
       "        1.07440837e-311+2.12199579e-314j],\n",
       "       [1.07437402e-311+2.47032823e-323j,\n",
       "        4.94065646e-324+0.00000000e+000j,\n",
       "        1.07440919e-311+1.07440793e-311j,\n",
       "        0.00000000e+000+7.41098469e-323j,\n",
       "        1.07440919e-311+6.95266636e-310j],\n",
       "       [0.00000000e+000+7.41098469e-323j,\n",
       "        4.94065646e-324+0.00000000e+000j,\n",
       "        0.00000000e+000+0.00000000e+000j,\n",
       "        0.00000000e+000+0.00000000e+000j,\n",
       "        0.00000000e+000+0.00000000e+000j]])"
      ]
     },
     "execution_count": 54,
     "metadata": {},
     "output_type": "execute_result"
    }
   ],
   "source": [
    "np.empty([4,5],'c16')"
   ]
  },
  {
   "cell_type": "code",
   "execution_count": 57,
   "id": "851ee914",
   "metadata": {},
   "outputs": [
    {
     "data": {
      "text/plain": [
       "array([[1, 0, 0, 0, 0, 0, 0, 0, 0, 0],\n",
       "       [0, 1, 0, 0, 0, 0, 0, 0, 0, 0],\n",
       "       [0, 0, 1, 0, 0, 0, 0, 0, 0, 0],\n",
       "       [0, 0, 0, 1, 0, 0, 0, 0, 0, 0],\n",
       "       [0, 0, 0, 0, 1, 0, 0, 0, 0, 0],\n",
       "       [0, 0, 0, 0, 0, 1, 0, 0, 0, 0],\n",
       "       [0, 0, 0, 0, 0, 0, 1, 0, 0, 0],\n",
       "       [0, 0, 0, 0, 0, 0, 0, 1, 0, 0],\n",
       "       [0, 0, 0, 0, 0, 0, 0, 0, 1, 0],\n",
       "       [0, 0, 0, 0, 0, 0, 0, 0, 0, 1]])"
      ]
     },
     "execution_count": 57,
     "metadata": {},
     "output_type": "execute_result"
    }
   ],
   "source": [
    "np.eye(10,dtype='i4')"
   ]
  },
  {
   "cell_type": "code",
   "execution_count": 63,
   "id": "d71e1f55",
   "metadata": {},
   "outputs": [
    {
     "data": {
      "text/plain": [
       "array([[1, 0, 0, 0, 0, 0, 0, 0, 0, 0],\n",
       "       [0, 1, 0, 0, 0, 0, 0, 0, 0, 0],\n",
       "       [0, 0, 1, 0, 0, 0, 0, 0, 0, 0],\n",
       "       [0, 0, 0, 1, 0, 0, 0, 0, 0, 0],\n",
       "       [0, 0, 0, 0, 1, 0, 0, 0, 0, 0],\n",
       "       [0, 0, 0, 0, 0, 1, 0, 0, 0, 0],\n",
       "       [0, 0, 0, 0, 0, 0, 1, 0, 0, 0],\n",
       "       [0, 0, 0, 0, 0, 0, 0, 1, 0, 0],\n",
       "       [0, 0, 0, 0, 0, 0, 0, 0, 1, 0],\n",
       "       [0, 0, 0, 0, 0, 0, 0, 0, 0, 1]])"
      ]
     },
     "execution_count": 63,
     "metadata": {},
     "output_type": "execute_result"
    }
   ],
   "source": [
    "np.eye(10, dtype='i4')"
   ]
  },
  {
   "cell_type": "code",
   "execution_count": 71,
   "id": "b71437b7",
   "metadata": {},
   "outputs": [
    {
     "data": {
      "text/plain": [
       "array([[0, 0, 1],\n",
       "       [0, 0, 0],\n",
       "       [0, 0, 0]])"
      ]
     },
     "execution_count": 71,
     "metadata": {},
     "output_type": "execute_result"
    }
   ],
   "source": [
    "np.eye(3,3,2,dtype='i4')"
   ]
  },
  {
   "cell_type": "code",
   "execution_count": 72,
   "id": "5a4ddf65",
   "metadata": {},
   "outputs": [
    {
     "name": "stdout",
     "output_type": "stream",
     "text": [
      "No Python documentation found for 'identity'.\n",
      "Use help() to get the interactive help utility.\n",
      "Use help(str) for help on the str class.\n",
      "\n"
     ]
    }
   ],
   "source": [
    "help('identity')"
   ]
  },
  {
   "cell_type": "code",
   "execution_count": 78,
   "id": "fc9d116f",
   "metadata": {},
   "outputs": [
    {
     "data": {
      "text/plain": [
       "array([[1, 0, 0, 0, 0, 0, 0, 0, 0],\n",
       "       [0, 1, 0, 0, 0, 0, 0, 0, 0],\n",
       "       [0, 0, 1, 0, 0, 0, 0, 0, 0],\n",
       "       [0, 0, 0, 1, 0, 0, 0, 0, 0],\n",
       "       [0, 0, 0, 0, 1, 0, 0, 0, 0],\n",
       "       [0, 0, 0, 0, 0, 1, 0, 0, 0],\n",
       "       [0, 0, 0, 0, 0, 0, 1, 0, 0],\n",
       "       [0, 0, 0, 0, 0, 0, 0, 1, 0],\n",
       "       [0, 0, 0, 0, 0, 0, 0, 0, 1]])"
      ]
     },
     "execution_count": 78,
     "metadata": {},
     "output_type": "execute_result"
    }
   ],
   "source": [
    "np.identity(9,dtype='i4')"
   ]
  },
  {
   "cell_type": "markdown",
   "id": "ee2835f9",
   "metadata": {},
   "source": [
    "# LINSPACE"
   ]
  },
  {
   "cell_type": "code",
   "execution_count": 81,
   "id": "ab64b9c2",
   "metadata": {},
   "outputs": [
    {
     "data": {
      "text/plain": [
       "array([  2,   4,   6,   8,  10,  12,  14,  16,  18,  20,  22,  24,  26,\n",
       "        28,  30,  32,  34,  36,  38,  40,  42,  44,  46,  48,  50,  52,\n",
       "        54,  56,  58,  60,  62,  64,  66,  68,  70,  72,  74,  76,  78,\n",
       "        80,  82,  84,  86,  88,  90,  92,  94,  96,  98, 100])"
      ]
     },
     "execution_count": 81,
     "metadata": {},
     "output_type": "execute_result"
    }
   ],
   "source": [
    "np.linspace(2,100,dtype='i4')"
   ]
  },
  {
   "cell_type": "code",
   "execution_count": 86,
   "id": "615ca3a1",
   "metadata": {},
   "outputs": [
    {
     "data": {
      "text/plain": [
       "array([2.       , 2.0408163, 2.0816326, 2.122449 , 2.1632652, 2.2040815,\n",
       "       2.2448978, 2.2857144, 2.3265307, 2.367347 , 2.4081633, 2.4489796,\n",
       "       2.489796 , 2.5306122, 2.5714285, 2.6122448, 2.6530612, 2.6938775,\n",
       "       2.7346938, 2.7755103, 2.8163266, 2.857143 , 2.8979592, 2.9387755,\n",
       "       2.9795918, 3.0204082, 3.0612245, 3.1020408, 3.142857 , 3.1836734,\n",
       "       3.2244897, 3.2653062, 3.3061225, 3.3469388, 3.3877552, 3.4285715,\n",
       "       3.4693878, 3.510204 , 3.5510204, 3.5918367, 3.632653 , 3.6734693,\n",
       "       3.7142856, 3.7551022, 3.7959185, 3.8367348, 3.877551 , 3.9183674,\n",
       "       3.9591837, 4.       ], dtype=float32)"
      ]
     },
     "execution_count": 86,
     "metadata": {},
     "output_type": "execute_result"
    }
   ],
   "source": [
    "\n",
    "np.linspace(2,4,dtype='f4')"
   ]
  },
  {
   "cell_type": "code",
   "execution_count": 87,
   "id": "d71dac62",
   "metadata": {},
   "outputs": [
    {
     "data": {
      "text/plain": [
       "array([ 2.        +0.j,  2.48484848+0.j,  2.96969697+0.j,  3.45454545+0.j,\n",
       "        3.93939394+0.j,  4.42424242+0.j,  4.90909091+0.j,  5.39393939+0.j,\n",
       "        5.87878788+0.j,  6.36363636+0.j,  6.84848485+0.j,  7.33333333+0.j,\n",
       "        7.81818182+0.j,  8.3030303 +0.j,  8.78787879+0.j,  9.27272727+0.j,\n",
       "        9.75757576+0.j, 10.24242424+0.j, 10.72727273+0.j, 11.21212121+0.j,\n",
       "       11.6969697 +0.j, 12.18181818+0.j, 12.66666667+0.j, 13.15151515+0.j,\n",
       "       13.63636364+0.j, 14.12121212+0.j, 14.60606061+0.j, 15.09090909+0.j,\n",
       "       15.57575758+0.j, 16.06060606+0.j, 16.54545455+0.j, 17.03030303+0.j,\n",
       "       17.51515152+0.j, 18.        +0.j, 18.48484848+0.j, 18.96969697+0.j,\n",
       "       19.45454545+0.j, 19.93939394+0.j, 20.42424242+0.j, 20.90909091+0.j,\n",
       "       21.39393939+0.j, 21.87878788+0.j, 22.36363636+0.j, 22.84848485+0.j,\n",
       "       23.33333333+0.j, 23.81818182+0.j, 24.3030303 +0.j, 24.78787879+0.j,\n",
       "       25.27272727+0.j, 25.75757576+0.j, 26.24242424+0.j, 26.72727273+0.j,\n",
       "       27.21212121+0.j, 27.6969697 +0.j, 28.18181818+0.j, 28.66666667+0.j,\n",
       "       29.15151515+0.j, 29.63636364+0.j, 30.12121212+0.j, 30.60606061+0.j,\n",
       "       31.09090909+0.j, 31.57575758+0.j, 32.06060606+0.j, 32.54545455+0.j,\n",
       "       33.03030303+0.j, 33.51515152+0.j, 34.        +0.j, 34.48484848+0.j,\n",
       "       34.96969697+0.j, 35.45454545+0.j, 35.93939394+0.j, 36.42424242+0.j,\n",
       "       36.90909091+0.j, 37.39393939+0.j, 37.87878788+0.j, 38.36363636+0.j,\n",
       "       38.84848485+0.j, 39.33333333+0.j, 39.81818182+0.j, 40.3030303 +0.j,\n",
       "       40.78787879+0.j, 41.27272727+0.j, 41.75757576+0.j, 42.24242424+0.j,\n",
       "       42.72727273+0.j, 43.21212121+0.j, 43.6969697 +0.j, 44.18181818+0.j,\n",
       "       44.66666667+0.j, 45.15151515+0.j, 45.63636364+0.j, 46.12121212+0.j,\n",
       "       46.60606061+0.j, 47.09090909+0.j, 47.57575758+0.j, 48.06060606+0.j,\n",
       "       48.54545455+0.j, 49.03030303+0.j, 49.51515152+0.j, 50.        +0.j])"
      ]
     },
     "execution_count": 87,
     "metadata": {},
     "output_type": "execute_result"
    }
   ],
   "source": [
    "np.linspace(2,50,100,dtype='c16')"
   ]
  },
  {
   "cell_type": "code",
   "execution_count": 90,
   "id": "956e8377",
   "metadata": {},
   "outputs": [
    {
     "data": {
      "text/plain": [
       "[<matplotlib.lines.Line2D at 0x1fa564fe9a0>]"
      ]
     },
     "execution_count": 90,
     "metadata": {},
     "output_type": "execute_result"
    },
    {
     "data": {
      "image/png": "[encoded data removed]",
      "text/plain": [
       "<Figure size 432x288 with 1 Axes>"
      ]
     },
     "metadata": {
      "needs_background": "light"
     },
     "output_type": "display_data"
    }
   ],
   "source": [
    "import matplotlib.pyplot as plt\n",
    "x = np.linspace(2,30,dtype='f8')\n",
    "y = np.sin(x)\n",
    "plt.plot(x,y)\n"
   ]
  },
  {
   "cell_type": "code",
   "execution_count": 92,
   "id": "512ec30e",
   "metadata": {},
   "outputs": [
    {
     "data": {
      "text/plain": [
       "[<matplotlib.lines.Line2D at 0x1fa56641850>]"
      ]
     },
     "execution_count": 92,
     "metadata": {},
     "output_type": "execute_result"
    },
    {
     "data": {
      "image/png": "[encoded data removed]",
      "text/plain": [
       "<Figure size 432x288 with 1 Axes>"
      ]
     },
     "metadata": {
      "needs_background": "light"
     },
     "output_type": "display_data"
    }
   ],
   "source": [
    "import matplotlib.pyplot as plt\n",
    "x = np.linspace(2,30,dtype='f8')\n",
    "y = np.sin(x)\n",
    "plt.plot(x,y,'--s')"
   ]
  },
  {
   "cell_type": "code",
   "execution_count": 95,
   "id": "413f9eb2",
   "metadata": {},
   "outputs": [
    {
     "data": {
      "text/plain": [
       "[<matplotlib.lines.Line2D at 0x1fa5a354e20>]"
      ]
     },
     "execution_count": 95,
     "metadata": {},
     "output_type": "execute_result"
    },
    {
     "data": {
      "image/png": "[encoded data removed]",
      "text/plain": [
       "<Figure size 432x288 with 1 Axes>"
      ]
     },
     "metadata": {
      "needs_background": "light"
     },
     "output_type": "display_data"
    }
   ],
   "source": [
    "import matplotlib.pyplot as plt\n",
    "x = np.linspace(2,30,dtype='f8')\n",
    "y = np.sin(x)\n",
    "plt.plot(x,y,'--d')"
   ]
  },
  {
   "cell_type": "code",
   "execution_count": 96,
   "id": "697b540c",
   "metadata": {},
   "outputs": [
    {
     "data": {
      "text/plain": [
       "[<matplotlib.lines.Line2D at 0x1fa5a3ba550>]"
      ]
     },
     "execution_count": 96,
     "metadata": {},
     "output_type": "execute_result"
    },
    {
     "data": {
      "image/png": "[encoded data removed]",
      "text/plain": [
       "<Figure size 432x288 with 1 Axes>"
      ]
     },
     "metadata": {
      "needs_background": "light"
     },
     "output_type": "display_data"
    }
   ],
   "source": [
    "import matplotlib.pyplot as plt\n",
    "x = np.linspace(2,30,dtype='f8')\n",
    "y = np.sin(x)\n",
    "plt.plot(x,y,'--r')"
   ]
  },
  {
   "cell_type": "code",
   "execution_count": 98,
   "id": "6bf6f614",
   "metadata": {},
   "outputs": [
    {
     "data": {
      "text/plain": [
       "[<matplotlib.lines.Line2D at 0x1fa5a42f040>]"
      ]
     },
     "execution_count": 98,
     "metadata": {},
     "output_type": "execute_result"
    },
    {
     "data": {
      "image/png": "[encoded data removed]",
      "text/plain": [
       "<Figure size 432x288 with 1 Axes>"
      ]
     },
     "metadata": {
      "needs_background": "light"
     },
     "output_type": "display_data"
    }
   ],
   "source": [
    "import matplotlib.pyplot as plt\n",
    "x = np.linspace(2,30,dtype='f8')\n",
    "y = np.sin(x)\n",
    "plt.plot(x,y,'--p')"
   ]
  },
  {
   "cell_type": "code",
   "execution_count": null,
   "id": "6b243631",
   "metadata": {},
   "outputs": [],
   "source": []
  },
  {
   "cell_type": "code",
   "execution_count": null,
   "id": "a5da3168",
   "metadata": {},
   "outputs": [],
   "source": []
  },
  {
   "cell_type": "code",
   "execution_count": null,
   "id": "935f8259",
   "metadata": {},
   "outputs": [],
   "source": []
  },
  {
   "cell_type": "code",
   "execution_count": null,
   "id": "65ef3d39",
   "metadata": {},
   "outputs": [],
   "source": []
  },
  {
   "cell_type": "code",
   "execution_count": null,
   "id": "6dce0d77",
   "metadata": {},
   "outputs": [],
   "source": []
  },
  {
   "cell_type": "code",
   "execution_count": null,
   "id": "66aef661",
   "metadata": {},
   "outputs": [],
   "source": []
  },
  {
   "cell_type": "code",
   "execution_count": null,
   "id": "bc30ecd6",
   "metadata": {},
   "outputs": [],
   "source": []
  },
  {
   "cell_type": "code",
   "execution_count": null,
   "id": "d064820c",
   "metadata": {},
   "outputs": [],
   "source": []
  },
  {
   "cell_type": "code",
   "execution_count": null,
   "id": "23fc38ea",
   "metadata": {},
   "outputs": [],
   "source": []
  },
  {
   "cell_type": "code",
   "execution_count": null,
   "id": "2437258d",
   "metadata": {},
   "outputs": [],
   "source": []
  },
  {
   "cell_type": "code",
   "execution_count": null,
   "id": "67a3a318",
   "metadata": {},
   "outputs": [],
   "source": []
  },
  {
   "cell_type": "code",
   "execution_count": null,
   "id": "d43e288c",
   "metadata": {},
   "outputs": [],
   "source": []
  },
  {
   "cell_type": "code",
   "execution_count": null,
   "id": "5c3ec347",
   "metadata": {},
   "outputs": [],
   "source": []
  },
  {
   "cell_type": "code",
   "execution_count": null,
   "id": "79f9b9ac",
   "metadata": {},
   "outputs": [],
   "source": []
  },
  {
   "cell_type": "code",
   "execution_count": null,
   "id": "1808cf9e",
   "metadata": {},
   "outputs": [],
   "source": []
  },
  {
   "cell_type": "code",
   "execution_count": null,
   "id": "8d95de90",
   "metadata": {},
   "outputs": [],
   "source": []
  },
  {
   "cell_type": "code",
   "execution_count": null,
   "id": "ac0b03eb",
   "metadata": {},
   "outputs": [],
   "source": []
  },
  {
   "cell_type": "code",
   "execution_count": null,
   "id": "d43ef9c0",
   "metadata": {},
   "outputs": [],
   "source": []
  },
  {
   "cell_type": "code",
   "execution_count": null,
   "id": "44fb66da",
   "metadata": {},
   "outputs": [],
   "source": []
  },
  {
   "cell_type": "code",
   "execution_count": null,
   "id": "01506068",
   "metadata": {},
   "outputs": [],
   "source": []
  },
  {
   "cell_type": "code",
   "execution_count": null,
   "id": "c6ad4fc4",
   "metadata": {},
   "outputs": [],
   "source": []
  },
  {
   "cell_type": "code",
   "execution_count": null,
   "id": "eb3f41a9",
   "metadata": {},
   "outputs": [],
   "source": []
  },
  {
   "cell_type": "code",
   "execution_count": null,
   "id": "3437034c",
   "metadata": {},
   "outputs": [],
   "source": []
  },
  {
   "cell_type": "code",
   "execution_count": null,
   "id": "b8bbbb24",
   "metadata": {},
   "outputs": [],
   "source": []
  },
  {
   "cell_type": "code",
   "execution_count": null,
   "id": "08acf625",
   "metadata": {},
   "outputs": [],
   "source": []
  }
 ],
 "metadata": {
  "kernelspec": {
   "display_name": "Python 3 (ipykernel)",
   "language": "python",
   "name": "python3"
  },
  "language_info": {
   "codemirror_mode": {
    "name": "ipython",
    "version": 3
   },
   "file_extension": ".py",
   "mimetype": "text/x-python",
   "name": "python",
   "nbconvert_exporter": "python",
   "pygments_lexer": "ipython3",
   "version": "3.9.12"
  }
 },
 "nbformat": 4,
 "nbformat_minor": 5
}
