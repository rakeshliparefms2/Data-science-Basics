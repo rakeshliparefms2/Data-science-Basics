{
 "cells": [
  {
   "cell_type": "code",
   "execution_count": 1,
   "id": "5db48e59",
   "metadata": {},
   "outputs": [],
   "source": [
    "import pandas as pd"
   ]
  },
  {
   "cell_type": "code",
   "execution_count": 2,
   "id": "592a2e8a",
   "metadata": {},
   "outputs": [],
   "source": [
    "names = ['Sunil','Pranil','Suresh','Naresh','Hiresh','Rakesh','Anvita']"
   ]
  },
  {
   "cell_type": "code",
   "execution_count": 3,
   "id": "9e0332f2",
   "metadata": {},
   "outputs": [
    {
     "data": {
      "text/plain": [
       "Series([], dtype: object)"
      ]
     },
     "execution_count": 3,
     "metadata": {},
     "output_type": "execute_result"
    }
   ],
   "source": [
    "pd.Series(dtype='object')"
   ]
  },
  {
   "cell_type": "code",
   "execution_count": 6,
   "id": "7d32fc45",
   "metadata": {},
   "outputs": [],
   "source": [
    "p = pd.Series(names)"
   ]
  },
  {
   "cell_type": "code",
   "execution_count": 7,
   "id": "2df49ca6",
   "metadata": {},
   "outputs": [
    {
     "data": {
      "text/plain": [
       "'Hiresh'"
      ]
     },
     "execution_count": 7,
     "metadata": {},
     "output_type": "execute_result"
    }
   ],
   "source": [
    "p[4]"
   ]
  },
  {
   "cell_type": "code",
   "execution_count": 9,
   "id": "bef42141",
   "metadata": {},
   "outputs": [
    {
     "data": {
      "text/plain": [
       "'Hi'"
      ]
     },
     "execution_count": 9,
     "metadata": {},
     "output_type": "execute_result"
    }
   ],
   "source": [
    "p[4][:2]"
   ]
  },
  {
   "cell_type": "code",
   "execution_count": 10,
   "id": "fb3baf46",
   "metadata": {},
   "outputs": [
    {
     "data": {
      "text/plain": [
       "0     Sunil\n",
       "1    Pranil\n",
       "2    Suresh\n",
       "3    Naresh\n",
       "4    Hiresh\n",
       "dtype: object"
      ]
     },
     "execution_count": 10,
     "metadata": {},
     "output_type": "execute_result"
    }
   ],
   "source": [
    "p[:5]"
   ]
  },
  {
   "cell_type": "code",
   "execution_count": 11,
   "id": "3c44f744",
   "metadata": {},
   "outputs": [
    {
     "data": {
      "text/plain": [
       "6    Anvita\n",
       "5    Rakesh\n",
       "4    Hiresh\n",
       "3    Naresh\n",
       "2    Suresh\n",
       "1    Pranil\n",
       "0     Sunil\n",
       "dtype: object"
      ]
     },
     "execution_count": 11,
     "metadata": {},
     "output_type": "execute_result"
    }
   ],
   "source": [
    "p[::-1]"
   ]
  },
  {
   "cell_type": "code",
   "execution_count": 12,
   "id": "1f3e0ecb",
   "metadata": {},
   "outputs": [],
   "source": [
    "p[4]='Sharayu'"
   ]
  },
  {
   "cell_type": "code",
   "execution_count": 13,
   "id": "a0dea3dd",
   "metadata": {},
   "outputs": [
    {
     "data": {
      "text/plain": [
       "0      Sunil\n",
       "1     Pranil\n",
       "2     Suresh\n",
       "3     Naresh\n",
       "4    Sharayu\n",
       "5     Rakesh\n",
       "6     Anvita\n",
       "dtype: object"
      ]
     },
     "execution_count": 13,
     "metadata": {},
     "output_type": "execute_result"
    }
   ],
   "source": [
    "p"
   ]
  },
  {
   "cell_type": "code",
   "execution_count": 14,
   "id": "afd434dc",
   "metadata": {},
   "outputs": [
    {
     "data": {
      "text/plain": [
       "0      SUNIL\n",
       "1     PRANIL\n",
       "2     SURESH\n",
       "3     NARESH\n",
       "4    SHARAYU\n",
       "5     RAKESH\n",
       "6     ANVITA\n",
       "dtype: object"
      ]
     },
     "execution_count": 14,
     "metadata": {},
     "output_type": "execute_result"
    }
   ],
   "source": [
    "p.str.upper()"
   ]
  },
  {
   "cell_type": "code",
   "execution_count": 15,
   "id": "6ceffe0e",
   "metadata": {},
   "outputs": [
    {
     "data": {
      "text/plain": [
       "2038105046608"
      ]
     },
     "execution_count": 15,
     "metadata": {},
     "output_type": "execute_result"
    }
   ],
   "source": [
    "id(p)"
   ]
  },
  {
   "cell_type": "code",
   "execution_count": 16,
   "id": "69f34f97",
   "metadata": {},
   "outputs": [],
   "source": [
    "p[2]='Hritik'"
   ]
  },
  {
   "cell_type": "code",
   "execution_count": 17,
   "id": "2de3f3c8",
   "metadata": {},
   "outputs": [
    {
     "data": {
      "text/plain": [
       "0      Sunil\n",
       "1     Pranil\n",
       "2     Hritik\n",
       "3     Naresh\n",
       "4    Sharayu\n",
       "5     Rakesh\n",
       "6     Anvita\n",
       "dtype: object"
      ]
     },
     "execution_count": 17,
     "metadata": {},
     "output_type": "execute_result"
    }
   ],
   "source": [
    "p"
   ]
  },
  {
   "cell_type": "code",
   "execution_count": 18,
   "id": "2a9de1fb",
   "metadata": {},
   "outputs": [
    {
     "data": {
      "text/plain": [
       "2038105046608"
      ]
     },
     "execution_count": 18,
     "metadata": {},
     "output_type": "execute_result"
    }
   ],
   "source": [
    "id(p)"
   ]
  },
  {
   "cell_type": "code",
   "execution_count": 19,
   "id": "dbb1c8e7",
   "metadata": {},
   "outputs": [],
   "source": [
    "names = ['Su  n%%il','  Pra**nil  ','&&Sur^^esh$$','Na$$$resh  ','Hir)))esh','Rakesh','Anvita']"
   ]
  },
  {
   "cell_type": "code",
   "execution_count": 20,
   "id": "495fdd0a",
   "metadata": {},
   "outputs": [],
   "source": [
    "x = pd.Series(names)"
   ]
  },
  {
   "cell_type": "code",
   "execution_count": 21,
   "id": "d9c538f1",
   "metadata": {},
   "outputs": [
    {
     "data": {
      "text/plain": [
       "0       Su  n%%il\n",
       "1      Pra**nil  \n",
       "2    &&Sur^^esh$$\n",
       "3     Na$$$resh  \n",
       "4       Hir)))esh\n",
       "5          Rakesh\n",
       "6          Anvita\n",
       "dtype: object"
      ]
     },
     "execution_count": 21,
     "metadata": {},
     "output_type": "execute_result"
    }
   ],
   "source": [
    "x"
   ]
  },
  {
   "cell_type": "code",
   "execution_count": 26,
   "id": "ccfbb493",
   "metadata": {},
   "outputs": [],
   "source": [
    "x = x.str.strip(' ')"
   ]
  },
  {
   "cell_type": "code",
   "execution_count": 27,
   "id": "869caa20",
   "metadata": {},
   "outputs": [
    {
     "data": {
      "text/plain": [
       "0       Su  n%%il\n",
       "1        Pra**nil\n",
       "2    &&Sur^^esh$$\n",
       "3       Na$$$resh\n",
       "4       Hir)))esh\n",
       "5          Rakesh\n",
       "6          Anvita\n",
       "dtype: object"
      ]
     },
     "execution_count": 27,
     "metadata": {},
     "output_type": "execute_result"
    }
   ],
   "source": [
    "x"
   ]
  },
  {
   "cell_type": "code",
   "execution_count": 31,
   "id": "a3f01454",
   "metadata": {},
   "outputs": [
    {
     "name": "stderr",
     "output_type": "stream",
     "text": [
      "C:\\Users\\Rakesh\\AppData\\Local\\Temp\\ipykernel_8764\\2238152492.py:1: FutureWarning: The default value of regex will change from True to False in a future version. In addition, single character regular expressions will *not* be treated as literal strings when regex=True.\n",
      "  x = x.str.replace(' ','').str.replace('%','').str.replace('*','').str.replace('^','').str.replace('$','').str.replace(')','')\n"
     ]
    }
   ],
   "source": [
    "x = x.str.replace(' ','').str.replace('%','').str.replace('*','').str.replace('^','').str.replace('$','').str.replace(')','')"
   ]
  },
  {
   "cell_type": "code",
   "execution_count": 35,
   "id": "f729eebe",
   "metadata": {},
   "outputs": [],
   "source": [
    "x = x.str.strip('&')"
   ]
  },
  {
   "cell_type": "code",
   "execution_count": 36,
   "id": "27c2c950",
   "metadata": {},
   "outputs": [
    {
     "data": {
      "text/plain": [
       "0     Sunil\n",
       "1    Pranil\n",
       "2    Suresh\n",
       "3    Naresh\n",
       "4    Hiresh\n",
       "5    Rakesh\n",
       "6    Anvita\n",
       "dtype: object"
      ]
     },
     "execution_count": 36,
     "metadata": {},
     "output_type": "execute_result"
    }
   ],
   "source": [
    "x"
   ]
  },
  {
   "cell_type": "code",
   "execution_count": null,
   "id": "79d29148",
   "metadata": {},
   "outputs": [],
   "source": []
  }
 ],
 "metadata": {
  "kernelspec": {
   "display_name": "Python 3 (ipykernel)",
   "language": "python",
   "name": "python3"
  },
  "language_info": {
   "codemirror_mode": {
    "name": "ipython",
    "version": 3
   },
   "file_extension": ".py",
   "mimetype": "text/x-python",
   "name": "python",
   "nbconvert_exporter": "python",
   "pygments_lexer": "ipython3",
   "version": "3.9.12"
  }
 },
 "nbformat": 4,
 "nbformat_minor": 5
}
